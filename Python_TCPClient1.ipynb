{
 "cells": [
  {
   "cell_type": "code",
   "execution_count": 2,
   "metadata": {
    "ExecuteTime": {
     "end_time": "2021-05-28T11:26:29.131719Z",
     "start_time": "2021-05-28T11:26:11.521031Z"
    }
   },
   "outputs": [
    {
     "name": "stdout",
     "output_type": "stream",
     "text": [
      "Hostname: 127.0.0.1 Port: 56174, Thank you for connecting and sharing message\n"
     ]
    }
   ],
   "source": [
    "# Echo client program\n",
    "import socket\n",
    "\n",
    "# The remote host\n",
    "HOST = 'localhost' \n",
    "# The same port as used by the server\n",
    "PORT = 10004 \n",
    "# create the socket connection\n",
    "s = socket.socket(socket.AF_INET, socket.SOCK_STREAM)\n",
    "# connect to the server and port mentioned\n",
    "s.connect((HOST, PORT))\n",
    "# send the byte message to the server\n",
    "s.send(b'First client message')\n",
    "# printing the acknowledgement\n",
    "print(s.recv(1024).decode())\n",
    "# close the connection once the message sent\n",
    "s.close()"
   ]
  },
  {
   "cell_type": "code",
   "execution_count": null,
   "metadata": {},
   "outputs": [],
   "source": []
  }
 ],
 "metadata": {
  "kernelspec": {
   "display_name": "Python 3",
   "language": "python",
   "name": "python3"
  },
  "language_info": {
   "codemirror_mode": {
    "name": "ipython",
    "version": 3
   },
   "file_extension": ".py",
   "mimetype": "text/x-python",
   "name": "python",
   "nbconvert_exporter": "python",
   "pygments_lexer": "ipython3",
   "version": "3.8.5"
  }
 },
 "nbformat": 4,
 "nbformat_minor": 4
}
