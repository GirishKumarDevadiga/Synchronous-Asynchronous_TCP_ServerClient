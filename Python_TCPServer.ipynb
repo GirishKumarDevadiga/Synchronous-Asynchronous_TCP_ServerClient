{
 "cells": [
  {
   "cell_type": "code",
   "execution_count": 2,
   "metadata": {
    "ExecuteTime": {
     "end_time": "2021-05-28T11:25:09.270074Z",
     "start_time": "2021-05-28T11:25:09.261151Z"
    }
   },
   "outputs": [],
   "source": [
    "# echo server program\n",
    "import socket\n",
    "import time\n",
    "import threading\n",
    "\n",
    "# symbolic name meaning all available interfaces\n",
    "HOST = 'localhost' \n",
    "# arbitrary non-privileged port\n",
    "PORT = 10004  \n",
    "# create the socket connection\n",
    "s = socket.socket(socket.AF_INET, socket.SOCK_STREAM)\n",
    "# bind the host and port to the socket\n",
    "s.bind((HOST, PORT))\n",
    "# listen to the client\n",
    "s.listen(3)"
   ]
  },
  {
   "cell_type": "code",
   "execution_count": 5,
   "metadata": {
    "ExecuteTime": {
     "end_time": "2021-05-28T11:26:06.067339Z",
     "start_time": "2021-05-28T11:26:06.040793Z"
    }
   },
   "outputs": [],
   "source": [
    "# get the messages from the clients\n",
    "def getMessages():\n",
    "    # get the incoming connection request and the address of the client\n",
    "    conn, addr = s.accept()\n",
    "    while True:\n",
    "        # get the data from the client in chunks\n",
    "        data = conn.recv(1024)\n",
    "        # check if data is empty or not, if empty exit the while loop\n",
    "        if not data: break\n",
    "        # print the recived message from the client\n",
    "        print('Message from client {0} recieved at {1}: {2}\\n'.format(addr, time.ctime(time.time()), data.decode()), end=\"\\n\")\n",
    "        ack = 'Hostname: ' + addr[0] + ' Port: ' + str(addr[1]) + ', Thank you for connecting and sharing message'\n",
    "        conn.send(ack.encode())\n",
    "        # break the while loop after printing the message\n",
    "        break\n",
    "    # close the client connection once the all the message is recieved\n",
    "    conn.close()\n",
    "    time.sleep(5)"
   ]
  },
  {
   "cell_type": "markdown",
   "metadata": {},
   "source": [
    "## Synchronous method"
   ]
  },
  {
   "cell_type": "code",
   "execution_count": 4,
   "metadata": {
    "ExecuteTime": {
     "end_time": "2021-05-28T11:25:42.392974Z",
     "start_time": "2021-05-28T11:25:27.368076Z"
    }
   },
   "outputs": [
    {
     "name": "stdout",
     "output_type": "stream",
     "text": [
      "Message from client ('127.0.0.1', 56156) recieved at Fri May 28 16:55:27 2021: First client message\n",
      "\n",
      "Message from client ('127.0.0.1', 56158) recieved at Fri May 28 16:55:32 2021: Second client message\n",
      "\n",
      "Message from client ('127.0.0.1', 56160) recieved at Fri May 28 16:55:37 2021: Third client message\n",
      "\n"
     ]
    }
   ],
   "source": [
    "# get the messages from the clients\n",
    "getMessages()\n",
    "getMessages()\n",
    "getMessages()"
   ]
  },
  {
   "cell_type": "markdown",
   "metadata": {},
   "source": [
    "## Asynchronous method"
   ]
  },
  {
   "cell_type": "code",
   "execution_count": 6,
   "metadata": {
    "ExecuteTime": {
     "end_time": "2021-05-28T11:26:34.132345Z",
     "start_time": "2021-05-28T11:26:29.101544Z"
    }
   },
   "outputs": [
    {
     "name": "stdout",
     "output_type": "stream",
     "text": [
      "Message from client ('127.0.0.1', 56176) recieved at Fri May 28 16:56:29 2021: Second client message\n",
      "\n",
      "Message from client ('127.0.0.1', 56178) recieved at Fri May 28 16:56:29 2021: Third client message\n",
      "\n",
      "Message from client ('127.0.0.1', 56174) recieved at Fri May 28 16:56:29 2021: First client message\n",
      "\n"
     ]
    }
   ],
   "source": [
    "# using threads to run the function getMessages\n",
    "# creating the threads list to hold the threads\n",
    "threads = []\n",
    "\n",
    "# creating 3 threads for the clients\n",
    "for _ in range(3):\n",
    "    t = threading.Thread(target=getMessages)\n",
    "    t.start()\n",
    "    threads.append(t)\n",
    "\n",
    "# closing threads once all the threads run\n",
    "for thread in threads:\n",
    "    thread.join()"
   ]
  },
  {
   "cell_type": "code",
   "execution_count": 6,
   "metadata": {
    "ExecuteTime": {
     "end_time": "2021-05-11T10:08:06.593058Z",
     "start_time": "2021-05-11T10:08:06.584913Z"
    }
   },
   "outputs": [],
   "source": [
    "# close the socket connections\n",
    "s.close()"
   ]
  },
  {
   "cell_type": "code",
   "execution_count": null,
   "metadata": {},
   "outputs": [],
   "source": []
  }
 ],
 "metadata": {
  "kernelspec": {
   "display_name": "Python 3",
   "language": "python",
   "name": "python3"
  }
 },
 "nbformat": 4,
 "nbformat_minor": 4
}
